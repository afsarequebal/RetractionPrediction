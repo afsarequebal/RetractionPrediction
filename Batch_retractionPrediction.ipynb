{
 "cells": [
  {
   "cell_type": "markdown",
   "metadata": {
    "id": "t4mKVY5L3dfG"
   },
   "source": [
    "## CS 6120: Predicting Retraction Paper\n",
    "\n",
    "## Importing the Libraries"
   ]
  },
  {
   "cell_type": "markdown",
   "metadata": {},
   "source": [
    "This is the batch version of Jupyter notebook in the Github repository. Refer to that if you have questions on the code functionality."
   ]
  },
  {
   "cell_type": "code",
   "execution_count": 7,
   "metadata": {
    "id": "xXkl_ppB3nQo"
   },
   "outputs": [],
   "source": [
    "import numpy as np\n",
    "import pandas as pd\n",
    "import re\n",
    "import nltk\n",
    "from nltk.corpus import stopwords\n",
    "from nltk.stem import PorterStemmer\n",
    "from nltk.tokenize import word_tokenize\n",
    "import warnings\n",
    "import seaborn as sns\n",
    "import matplotlib.pyplot as plt\n",
    "warnings.filterwarnings(\"ignore\")\n",
    "from sklearn.utils import resample\n",
    "import string\n",
    "import math\n",
    "import os\n",
    "import glob\n",
    "import statistics\n",
    "import csv\n",
    "\n",
    "warnings.filterwarnings(\"ignore\")"
   ]
  },
  {
   "cell_type": "code",
   "execution_count": 8,
   "metadata": {},
   "outputs": [],
   "source": [
    "path = 'C:\\\\Users\\\\bspia\\\\Documents\\\\Jupyter\\\\NLP_Project_Jupyter_Retraction'\n",
    "extension = 'csv'\n",
    "os.chdir(path)\n",
    "filelist = glob.glob('*.{}'.format(extension))\n",
    "strings = [string[12:-4]for string in filelist]"
   ]
  },
  {
   "cell_type": "markdown",
   "metadata": {
    "id": "8j_hyoyK3wbW"
   },
   "source": [
    "## Reading the data\n",
    "\n",
    " "
   ]
  },
  {
   "cell_type": "code",
   "execution_count": 9,
   "metadata": {
    "id": "jI1moDbw3rdp"
   },
   "outputs": [
    {
     "name": "stdout",
     "output_type": "stream",
     "text": [
      "97.78247427546493\n",
      "0.8084723559401099\n",
      "86.99438898329085\n",
      "1.924445802651707\n",
      "96.59074388747285\n",
      "0.7784563897398977\n"
     ]
    }
   ],
   "source": [
    "iterations = 20;\n",
    "\n",
    "max_feature_count = 500;\n",
    "\n",
    "stat_array = []\n",
    "\n",
    "fields = ['RF ACC', 'NB ACC', 'LR ACC']\n",
    "\n",
    "rf_acc_array = [];\n",
    "nb_acc_array = [];\n",
    "lr_acc_array = [];\n",
    "\n",
    "for k in range(len(filelist)):\n",
    "\n",
    "    for i in range(iterations):\n",
    "        ## Reading the data and removing columns that are not important. \n",
    "        df = pd.read_csv(filelist[k], sep = ',', encoding = 'latin-1', usecols = lambda col: col not in [\"Unnamed: 0\"])\n",
    "\n",
    "        from sklearn.utils import resample\n",
    "\n",
    "        df_majority = df[df.Target==0]\n",
    "        df_minority = df[df.Target==1]\n",
    "\n",
    "        spam_upsample = resample(df_minority, replace = True, \n",
    "                                n_samples = df_majority.shape[0],\n",
    "                                random_state = 101)\n",
    "\n",
    "        df_upsampled = pd.concat([df_majority, spam_upsample])  \n",
    "        df_upsampled = df_upsampled.sample(frac = 1)\n",
    "\n",
    "        from sklearn.feature_extraction.text import CountVectorizer\n",
    "        from sklearn.model_selection import train_test_split,StratifiedKFold\n",
    "        sentences = df_upsampled['Text'].tolist()\n",
    "        vectorizer = CountVectorizer(max_features = max_feature_count)\n",
    "        X = vectorizer.fit_transform(sentences)\n",
    "        y = df_upsampled['Target'].tolist()\n",
    "        X_train, X_test, y_train, y_test = train_test_split(X, y, train_size = 0.8, stratify = y, random_state = 123)\n",
    "\n",
    "        ## Random Forest\n",
    "\n",
    "        from sklearn.ensemble import RandomForestClassifier\n",
    "        from sklearn.metrics import confusion_matrix\n",
    "        from sklearn.metrics import accuracy_score\n",
    "        from sklearn.metrics import classification_report\n",
    "\n",
    "        m1 = 'Random Forest Classfier'\n",
    "        rf = RandomForestClassifier(n_estimators=50, random_state=12,max_depth=3)\n",
    "        rf.fit(X_train,y_train)\n",
    "        rf_predicted = rf.predict(X_test)\n",
    "        rf_conf_matrix = confusion_matrix(y_test, rf_predicted)\n",
    "        rf_acc_score = accuracy_score(y_test, rf_predicted)\n",
    "\n",
    "        from sklearn.naive_bayes     import MultinomialNB\n",
    "        # initialize a Naive bayes model\n",
    "        m2 = 'Naive Bayes Classfier'\n",
    "        naive      = MultinomialNB()\n",
    "\n",
    "        # Fit the model using the training data\n",
    "        nb = naive.fit(X_train,y_train)\n",
    "        # predict the author of the held-out test sentences\n",
    "        nb_predicted = nb.predict(X_test)\n",
    "        nb_conf_matrix = confusion_matrix(y_test, nb_predicted)\n",
    "        nb_acc_score = accuracy_score(y_test, nb_predicted)\n",
    "\n",
    "        from sklearn.feature_extraction.text import CountVectorizer\n",
    "        from sklearn.linear_model    import LogisticRegression\n",
    "        from sklearn.model_selection import train_test_split,StratifiedKFold\n",
    "        from sklearn.metrics         import confusion_matrix\n",
    "\n",
    "        #-------------------------------------------------------\n",
    "        # Initialize four Logistic Regression models, \n",
    "        # each with a different penalty\n",
    "        #-------------------------------------------------------\n",
    "        lr        = LogisticRegression(penalty  = 'none')                                                # No penalty\n",
    "        lr_l2     = LogisticRegression(penalty  = 'l2'        , solver = 'newton-cg' )                   # L2 penalty\n",
    "        lr_l1     = LogisticRegression(penalty  = 'l1'        , solver = 'saga'      )                   # L1 penalty\n",
    "        lr_l1l2   = LogisticRegression(penalty  = 'elasticnet', solver = 'saga' ,l1_ratio = 0.5)         # L1-L2 penalty\n",
    "\n",
    "        #-------------------------------------------------------\n",
    "        # Fit all four models using the training data\n",
    "        # Store a list of models for ease of evaluation later...\n",
    "        #-------------------------------------------------------\n",
    "        models = {}\n",
    "        models['Logistic_Regression']              = lr.fit(X_train,y_train)\n",
    "        #models['Logistic_Regression_(L2)']         = lr_l2.fit(X_train,y_train)\n",
    "        #models['Logistic_Regression_(L1)']         = lr_l1.fit(X_train,y_train)\n",
    "        #models['Logistic_Regression_(Elasticnet)'] = lr_l1l2.fit(X_train,y_train)\n",
    "\n",
    "        lr_predict = lr.predict(X_test)\n",
    "        lr_conf_matrix = confusion_matrix(y_test, lr_predict)\n",
    "        lr_acc_score = accuracy_score(y_test, lr_predict)\n",
    "\n",
    "        rf_acc_array.append(rf_acc_score*100)\n",
    "        nb_acc_array.append(nb_acc_score*100)\n",
    "        lr_acc_array.append(lr_acc_score*100)\n",
    "\n",
    "rf_mean = statistics.mean(rf_acc_array)\n",
    "rf_std = statistics.stdev(rf_acc_array)\n",
    "nb_mean = statistics.mean(nb_acc_array)\n",
    "nb_std = statistics.stdev(nb_acc_array)\n",
    "lr_mean = statistics.mean(lr_acc_array)\n",
    "lr_std = statistics.stdev(lr_acc_array)\n",
    "stat_array.append([str(rf_mean)+'+-'+str(rf_std),str(nb_mean)+'+-'+str(nb_std),str(lr_mean)+'+-'+str(lr_std)])\n",
    "\n",
    "rows = stat_array\n",
    "\n",
    "print(rf_mean)\n",
    "print(rf_std)\n",
    "print(nb_mean)\n",
    "print(nb_std)\n",
    "print(lr_mean)\n",
    "print(lr_std)\n",
    "\n",
    "with open('Results.csv', 'w') as f:\n",
    "      \n",
    "    # using csv.writer method from CSV package\n",
    "    write = csv.writer(f)\n",
    "      \n",
    "    write.writerow(fields)\n",
    "    write.writerows(rows)"
   ]
  },
  {
   "cell_type": "code",
   "execution_count": null,
   "metadata": {},
   "outputs": [],
   "source": []
  }
 ],
 "metadata": {
  "colab": {
   "name": "logisticRegressionNb (1).ipynb",
   "provenance": []
  },
  "kernelspec": {
   "display_name": "Python 3",
   "language": "python",
   "name": "python3"
  },
  "language_info": {
   "codemirror_mode": {
    "name": "ipython",
    "version": 3
   },
   "file_extension": ".py",
   "mimetype": "text/x-python",
   "name": "python",
   "nbconvert_exporter": "python",
   "pygments_lexer": "ipython3",
   "version": "3.8.5"
  }
 },
 "nbformat": 4,
 "nbformat_minor": 5
}
