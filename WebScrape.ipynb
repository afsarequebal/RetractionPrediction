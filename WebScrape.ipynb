{
 "cells": [
  {
   "cell_type": "markdown",
   "id": "d84ed609",
   "metadata": {},
   "source": [
    "### This file is used to extract doi numbers, retraction reason, authors etc. from http://retractiondatabase.org/RetractionSearch.aspx"
   ]
  },
  {
   "cell_type": "code",
   "execution_count": 4,
   "id": "ae1449c0",
   "metadata": {},
   "outputs": [],
   "source": [
    "from bs4 import BeautifulSoup\n",
    "import numpy as np\n",
    "import csv\n",
    "\n",
    "# This script is used to read html documents(taken from retractionWatchDatabase and reading doi number, retraction reason, authors etc.\n",
    "def scrape():\n",
    "    with open('retraction8.html') as html_file:\n",
    "        soup = BeautifulSoup(html_file, 'lxml')\n",
    "    reasonArr = []\n",
    "    filteredReasonArr=[]\n",
    "    retractedDoiArr = []\n",
    "    filteredRetractedDoiArr = []\n",
    "    originalDate = []\n",
    "    filteredOriginalDate = []\n",
    "    retractedDate = []\n",
    "    filteredRetractedDate = []\n",
    "    articleType = []\n",
    "    filteredarticleType = []\n",
    "    retractionTable = soup.find('table', id='grdRetraction')\n",
    "    for paper in retractionTable.find_all('tr', class_='mainrow'):\n",
    "        tdx = paper.find_all('td')\n",
    "        if tdx[4].find('span', class_='rNature').text != 'unavailable':\n",
    "\n",
    "            reason = \", \".join([str(item.text) for item in tdx[2].find_all('div', class_='rReason')])\n",
    "            reasonArr.append(reason)\n",
    "            retractedDoiArr.append(tdx[4].find('span', class_='rNature').text)\n",
    "            originalDate.append(tdx[4].contents[0])\n",
    "            retractedDate.append(tdx[5].contents[0])\n",
    "            articleType.append(tdx[6].contents[0])\n",
    "\n",
    "    with open('retractedPapers.csv', 'w', newline='') as file:\n",
    "        mywriter = csv.writer(file, delimiter=',')\n",
    "        mywriter.writerows(zip(retractedDoiArr, reasonArr,\n",
    "                               originalDate, retractedDate, articleType))\n",
    "\n",
    "\n",
    "scrape()"
   ]
  },
  {
   "cell_type": "code",
   "execution_count": null,
   "id": "68cf3082",
   "metadata": {},
   "outputs": [],
   "source": []
  }
 ],
 "metadata": {
  "kernelspec": {
   "display_name": "Python 3 (ipykernel)",
   "language": "python",
   "name": "python3"
  },
  "language_info": {
   "codemirror_mode": {
    "name": "ipython",
    "version": 3
   },
   "file_extension": ".py",
   "mimetype": "text/x-python",
   "name": "python",
   "nbconvert_exporter": "python",
   "pygments_lexer": "ipython3",
   "version": "3.9.5"
  }
 },
 "nbformat": 4,
 "nbformat_minor": 5
}
