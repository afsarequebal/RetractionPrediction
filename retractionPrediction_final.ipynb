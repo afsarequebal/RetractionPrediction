{
 "cells": [
  {
   "cell_type": "markdown",
   "id": "t4mKVY5L3dfG",
   "metadata": {
    "id": "t4mKVY5L3dfG"
   },
   "source": [
    "## CS 6120: Predicting Retraction Paper\n",
    "\n",
    "## Importing the Libraries"
   ]
  },
  {
   "cell_type": "code",
   "execution_count": 20,
   "id": "xXkl_ppB3nQo",
   "metadata": {
    "id": "xXkl_ppB3nQo"
   },
   "outputs": [],
   "source": [
    "import numpy as np\n",
    "import pandas as pd\n",
    "import re\n",
    "import nltk\n",
    "from nltk.corpus import stopwords\n",
    "from nltk.stem import PorterStemmer\n",
    "from nltk.tokenize import word_tokenize\n",
    "import warnings\n",
    "import seaborn as sns\n",
    "import matplotlib.pyplot as plt\n",
    "warnings.filterwarnings(\"ignore\")\n",
    "from sklearn.utils import resample\n",
    "import string\n",
    "import math\n",
    "from sklearn.metrics import roc_curve\n",
    "\n",
    "warnings.filterwarnings(\"ignore\")"
   ]
  },
  {
   "cell_type": "markdown",
   "id": "8j_hyoyK3wbW",
   "metadata": {
    "id": "8j_hyoyK3wbW"
   },
   "source": [
    "## Reading the data\n",
    "\n",
    " "
   ]
  },
  {
   "cell_type": "code",
   "execution_count": 2,
   "id": "jI1moDbw3rdp",
   "metadata": {
    "id": "jI1moDbw3rdp"
   },
   "outputs": [],
   "source": [
    "## Reading the data and removing columns that are not important. \n",
    "df = pd.read_csv('retraction3.csv', sep = ',', encoding = 'latin-1', usecols = lambda col: col not in [\"Unnamed: 0\"])\n"
   ]
  },
  {
   "cell_type": "code",
   "execution_count": 3,
   "id": "hXC5PgwN37OO",
   "metadata": {
    "colab": {
     "base_uri": "https://localhost:8080/",
     "height": 206
    },
    "id": "hXC5PgwN37OO",
    "outputId": "418e6484-4187-4ee0-8dad-1ae804e46f7d"
   },
   "outputs": [
    {
     "data": {
      "text/html": [
       "<div>\n",
       "<style scoped>\n",
       "    .dataframe tbody tr th:only-of-type {\n",
       "        vertical-align: middle;\n",
       "    }\n",
       "\n",
       "    .dataframe tbody tr th {\n",
       "        vertical-align: top;\n",
       "    }\n",
       "\n",
       "    .dataframe thead th {\n",
       "        text-align: right;\n",
       "    }\n",
       "</style>\n",
       "<table border=\"1\" class=\"dataframe\">\n",
       "  <thead>\n",
       "    <tr style=\"text-align: right;\">\n",
       "      <th></th>\n",
       "      <th>Target</th>\n",
       "      <th>Text</th>\n",
       "    </tr>\n",
       "  </thead>\n",
       "  <tbody>\n",
       "    <tr>\n",
       "      <th>0</th>\n",
       "      <td>1</td>\n",
       "      <td>farzaneh terumi kohwi shigematsu oliver bisch...</td>\n",
       "    </tr>\n",
       "    <tr>\n",
       "      <th>1</th>\n",
       "      <td>1</td>\n",
       "      <td>saenz ausejo mataix fernandez esteban rojas e...</td>\n",
       "    </tr>\n",
       "    <tr>\n",
       "      <th>2</th>\n",
       "      <td>1</td>\n",
       "      <td>vol august pp doiclim available online simult...</td>\n",
       "    </tr>\n",
       "    <tr>\n",
       "      <th>3</th>\n",
       "      <td>1</td>\n",
       "      <td>download university lethbridge date november ...</td>\n",
       "    </tr>\n",
       "    <tr>\n",
       "      <th>4</th>\n",
       "      <td>1</td>\n",
       "      <td>synthesis global regulator fis ro n gareth pa...</td>\n",
       "    </tr>\n",
       "  </tbody>\n",
       "</table>\n",
       "</div>"
      ],
      "text/plain": [
       "   Target                                               Text\n",
       "0       1   farzaneh terumi kohwi shigematsu oliver bisch...\n",
       "1       1   saenz ausejo mataix fernandez esteban rojas e...\n",
       "2       1   vol august pp doiclim available online simult...\n",
       "3       1   download university lethbridge date november ...\n",
       "4       1   synthesis global regulator fis ro n gareth pa..."
      ]
     },
     "execution_count": 3,
     "metadata": {},
     "output_type": "execute_result"
    }
   ],
   "source": [
    "df.head()"
   ]
  },
  {
   "cell_type": "markdown",
   "id": "aZnl8eVa9jxN",
   "metadata": {
    "id": "aZnl8eVa9jxN"
   },
   "source": [
    "## Count plot of the output categories: retracted or no-retracted\n",
    "\n"
   ]
  },
  {
   "cell_type": "code",
   "execution_count": 4,
   "id": "2O9TdkrR9qsM",
   "metadata": {
    "colab": {
     "base_uri": "https://localhost:8080/",
     "height": 446
    },
    "id": "2O9TdkrR9qsM",
    "outputId": "7460c899-037d-4468-f7fe-8b13acb480f8"
   },
   "outputs": [
    {
     "data": {
      "image/png": "[encoded data removed]",
      "text/plain": [
       "<Figure size 864x576 with 1 Axes>"
      ]
     },
     "metadata": {
      "needs_background": "light"
     },
     "output_type": "display_data"
    }
   ],
   "source": [
    "plt.figure(figsize = (12,8))\n",
    "sns.countplot(x ='Target', data = df)\n",
    "plt.title(\"Retracted Vs. Non-retracted count\", fontsize = 15)\n",
    "plt.show()"
   ]
  },
  {
   "cell_type": "markdown",
   "id": "rW5ujsgB90sA",
   "metadata": {
    "id": "rW5ujsgB90sA"
   },
   "source": [
    "## Upsampling the minority class\n",
    "\n"
   ]
  },
  {
   "cell_type": "code",
   "execution_count": 5,
   "id": "iB8KFSlf96RX",
   "metadata": {
    "id": "iB8KFSlf96RX"
   },
   "outputs": [],
   "source": [
    "from sklearn.utils import resample\n",
    "\n",
    "df_majority = df[df.Target==0]\n",
    "df_minority = df[df.Target==1]\n",
    "\n",
    "spam_upsample = resample(df_minority, replace = True, \n",
    "                        n_samples = df_majority.shape[0],\n",
    "                        random_state = 101)\n",
    "\n",
    "df_upsampled = pd.concat([df_majority, spam_upsample])  \n",
    "df_upsampled = df_upsampled.sample(frac = 1)"
   ]
  },
  {
   "cell_type": "code",
   "execution_count": 6,
   "id": "P-6MJpIX9_a4",
   "metadata": {
    "colab": {
     "base_uri": "https://localhost:8080/"
    },
    "id": "P-6MJpIX9_a4",
    "outputId": "170b3fde-e2f4-42ac-a5ff-eb2b9266fb62"
   },
   "outputs": [
    {
     "data": {
      "text/plain": [
       "(5349, 2)"
      ]
     },
     "execution_count": 6,
     "metadata": {},
     "output_type": "execute_result"
    }
   ],
   "source": [
    "df_upsampled[df_upsampled['Target']==0].shape"
   ]
  },
  {
   "cell_type": "code",
   "execution_count": 7,
   "id": "2EXqBdtn-AAZ",
   "metadata": {
    "colab": {
     "base_uri": "https://localhost:8080/"
    },
    "id": "2EXqBdtn-AAZ",
    "outputId": "63d0ebd1-dfb1-48ee-87d8-5ef8daae5b51"
   },
   "outputs": [
    {
     "data": {
      "text/plain": [
       "(5349, 2)"
      ]
     },
     "execution_count": 7,
     "metadata": {},
     "output_type": "execute_result"
    }
   ],
   "source": [
    "df_upsampled[df_upsampled['Target']==1].shape"
   ]
  },
  {
   "cell_type": "markdown",
   "id": "_M3ZLduT-lT7",
   "metadata": {
    "id": "_M3ZLduT-lT7"
   },
   "source": [
    "## Vectorization"
   ]
  },
  {
   "cell_type": "code",
   "execution_count": 13,
   "id": "WTaU1KRN-r3v",
   "metadata": {
    "id": "WTaU1KRN-r3v"
   },
   "outputs": [],
   "source": [
    "from sklearn.feature_extraction.text import CountVectorizer\n",
    "from sklearn.model_selection import train_test_split,StratifiedKFold\n",
    "sentences = df_upsampled['Text'].tolist()\n",
    "vectorizer = CountVectorizer()\n",
    "#vectorizer = CountVectorizer(max_features = 3)\n",
    "X = vectorizer.fit_transform(sentences)\n",
    "y = df_upsampled['Target'].tolist()\n",
    "X_train, X_test, y_train, y_test = train_test_split(X, y, train_size = 0.8, stratify = y, random_state = 123)"
   ]
  },
  {
   "cell_type": "code",
   "execution_count": 14,
   "id": "4209a770",
   "metadata": {},
   "outputs": [
    {
     "name": "stdout",
     "output_type": "stream",
     "text": [
      "(10698, 564983)\n",
      "(8558, 564983)\n",
      "(2140, 564983)\n"
     ]
    }
   ],
   "source": [
    "print(X.shape)\n",
    "print(X_train.shape)\n",
    "print(X_test.shape)"
   ]
  },
  {
   "cell_type": "markdown",
   "id": "AbyGikpE_OmI",
   "metadata": {
    "id": "AbyGikpE_OmI"
   },
   "source": [
    "## Training and Evaluating Models\n",
    "# Random Forest classification"
   ]
  },
  {
   "cell_type": "code",
   "execution_count": 15,
   "id": "3NI56ne__NYi",
   "metadata": {
    "colab": {
     "base_uri": "https://localhost:8080/"
    },
    "id": "3NI56ne__NYi",
    "outputId": "9106fba7-a523-4556-e4ba-3b6d06e0386f"
   },
   "outputs": [
    {
     "name": "stdout",
     "output_type": "stream",
     "text": [
      "confussion matrix\n",
      "[[1020   50]\n",
      " [  49 1021]]\n",
      "\n",
      "\n",
      "Accuracy of Random Forest: 95.37383177570094 \n",
      "\n",
      "              precision    recall  f1-score   support\n",
      "\n",
      "           0       0.95      0.95      0.95      1070\n",
      "           1       0.95      0.95      0.95      1070\n",
      "\n",
      "    accuracy                           0.95      2140\n",
      "   macro avg       0.95      0.95      0.95      2140\n",
      "weighted avg       0.95      0.95      0.95      2140\n",
      "\n"
     ]
    }
   ],
   "source": [
    "from sklearn.ensemble import RandomForestClassifier\n",
    "from sklearn.metrics import confusion_matrix\n",
    "from sklearn.metrics import accuracy_score\n",
    "from sklearn.metrics import classification_report\n",
    "\n",
    "m1 = 'Random Forest Classfier'\n",
    "rf = RandomForestClassifier(n_estimators=50, random_state=12,max_depth=3)\n",
    "rf.fit(X_train,y_train)\n",
    "rf_predicted = rf.predict(X_test)\n",
    "rf_conf_matrix = confusion_matrix(y_test, rf_predicted)\n",
    "rf_acc_score = accuracy_score(y_test, rf_predicted)\n",
    "print(\"confussion matrix\")\n",
    "print(rf_conf_matrix)\n",
    "print(\"\\n\")\n",
    "print(\"Accuracy of Random Forest:\",rf_acc_score*100,'\\n')\n",
    "print(classification_report(y_test,rf_predicted))"
   ]
  },
  {
   "cell_type": "markdown",
   "id": "ejm24PAs-Ls3",
   "metadata": {
    "id": "ejm24PAs-Ls3"
   },
   "source": [
    "## Naive Bayes\n"
   ]
  },
  {
   "cell_type": "code",
   "execution_count": 16,
   "id": "0exVge2I-XK_",
   "metadata": {
    "colab": {
     "base_uri": "https://localhost:8080/"
    },
    "id": "0exVge2I-XK_",
    "outputId": "f599958d-a325-491d-8f5f-0e574e3335a8"
   },
   "outputs": [
    {
     "name": "stdout",
     "output_type": "stream",
     "text": [
      "confussion matrix\n",
      "[[1034   36]\n",
      " [ 118  952]]\n",
      "\n",
      "\n",
      "Accuracy of Random Forest: 92.80373831775701 \n",
      "\n",
      "              precision    recall  f1-score   support\n",
      "\n",
      "           0       0.90      0.97      0.93      1070\n",
      "           1       0.96      0.89      0.93      1070\n",
      "\n",
      "    accuracy                           0.93      2140\n",
      "   macro avg       0.93      0.93      0.93      2140\n",
      "weighted avg       0.93      0.93      0.93      2140\n",
      "\n"
     ]
    }
   ],
   "source": [
    "from sklearn.naive_bayes     import MultinomialNB\n",
    "# initialize a Naive bayes model\n",
    "m2 = 'Naive Bayes Classfier'\n",
    "naive      = MultinomialNB()\n",
    "\n",
    "# Fit the model using the training data\n",
    "nb = naive.fit(X_train,y_train)\n",
    "# predict the author of the held-out test sentences\n",
    "nb_predicted = nb.predict(X_test)\n",
    "nb_conf_matrix = confusion_matrix(y_test, nb_predicted)\n",
    "nb_acc_score = accuracy_score(y_test, nb_predicted)\n",
    "print(\"confussion matrix\")\n",
    "print(nb_conf_matrix)\n",
    "print(\"\\n\")\n",
    "print(\"Accuracy of Random Forest:\",nb_acc_score*100,'\\n')\n",
    "print(classification_report(y_test,nb_predicted))\n",
    "\n",
    "\n"
   ]
  },
  {
   "cell_type": "markdown",
   "id": "5789cd66",
   "metadata": {
    "id": "5789cd66"
   },
   "source": [
    "## Logistic Regression\n"
   ]
  },
  {
   "cell_type": "code",
   "execution_count": 17,
   "id": "fc37a742",
   "metadata": {
    "colab": {
     "base_uri": "https://localhost:8080/"
    },
    "id": "fc37a742",
    "outputId": "a80e3cae-b224-4e98-df5d-38d03788326a"
   },
   "outputs": [
    {
     "name": "stdout",
     "output_type": "stream",
     "text": [
      "confussion matrix\n",
      "[[1040   30]\n",
      " [  18 1052]]\n",
      "\n",
      "\n",
      "Accuracyof Logistic Regression: 97.75700934579439 \n",
      "\n",
      "              precision    recall  f1-score   support\n",
      "\n",
      "           0       0.98      0.97      0.98      1070\n",
      "           1       0.97      0.98      0.98      1070\n",
      "\n",
      "    accuracy                           0.98      2140\n",
      "   macro avg       0.98      0.98      0.98      2140\n",
      "weighted avg       0.98      0.98      0.98      2140\n",
      "\n"
     ]
    }
   ],
   "source": [
    "from sklearn.feature_extraction.text import CountVectorizer\n",
    "from sklearn.linear_model    import LogisticRegression\n",
    "from sklearn.model_selection import train_test_split,StratifiedKFold\n",
    "from sklearn.metrics         import confusion_matrix\n",
    "\n",
    "#-------------------------------------------------------\n",
    "# Initialize four Logistic Regression models, \n",
    "# each with a different penalty\n",
    "#-------------------------------------------------------\n",
    "lr        = LogisticRegression(penalty  = 'none')                                                # No penalty\n",
    "lr_l2     = LogisticRegression(penalty  = 'l2'        , solver = 'newton-cg' )                   # L2 penalty\n",
    "lr_l1     = LogisticRegression(penalty  = 'l1'        , solver = 'saga'      )                   # L1 penalty\n",
    "lr_l1l2   = LogisticRegression(penalty  = 'elasticnet', solver = 'saga' ,l1_ratio = 0.5)         # L1-L2 penalty\n",
    "\n",
    "#-------------------------------------------------------\n",
    "# Fit all four models using the training data\n",
    "# Store a list of models for ease of evaluation later...\n",
    "#-------------------------------------------------------\n",
    "models = {}\n",
    "models['Logistic_Regression']              = lr.fit(X_train,y_train)\n",
    "#models['Logistic_Regression_(L2)']         = lr_l2.fit(X_train,y_train)\n",
    "#models['Logistic_Regression_(L1)']         = lr_l1.fit(X_train,y_train)\n",
    "#models['Logistic_Regression_(Elasticnet)'] = lr_l1l2.fit(X_train,y_train)\n",
    "\n",
    "lr_predict = lr.predict(X_test)\n",
    "lr_conf_matrix = confusion_matrix(y_test, lr_predict)\n",
    "lr_acc_score = accuracy_score(y_test, lr_predict)\n",
    "\n",
    "print(\"confussion matrix\")\n",
    "print(lr_conf_matrix)\n",
    "print(\"\\n\")\n",
    "print(\"Accuracyof Logistic Regression:\",lr_acc_score*100,'\\n')\n",
    "print(classification_report(y_test,lr_predict))"
   ]
  },
  {
   "cell_type": "code",
   "execution_count": 21,
   "id": "ce21fc2c",
   "metadata": {},
   "outputs": [
    {
     "data": {
      "image/png": "[encoded data removed]",
      "text/plain": [
       "<Figure size 720x360 with 1 Axes>"
      ]
     },
     "metadata": {},
     "output_type": "display_data"
    }
   ],
   "source": [
    "lr_false_positive_rate,lr_true_positive_rate,lr_threshold = roc_curve(y_test,lr_predict)\n",
    "nb_false_positive_rate,nb_true_positive_rate,nb_threshold = roc_curve(y_test,nb_predicted)\n",
    "rf_false_positive_rate,rf_true_positive_rate,rf_threshold = roc_curve(y_test,rf_predicted)                                                             \n",
    "\n",
    "sns.set_style('whitegrid')\n",
    "plt.figure(figsize=(10,5))\n",
    "plt.title('Reciver Operating Characterstic Curve')\n",
    "plt.plot(lr_false_positive_rate,lr_true_positive_rate,label='Logistic Regression')\n",
    "plt.plot(nb_false_positive_rate,nb_true_positive_rate,label='Naive Bayes')\n",
    "plt.plot(rf_false_positive_rate,rf_true_positive_rate,label='Random Forest')\n",
    "plt.plot([0,1],ls='--')\n",
    "plt.plot([0,0],[1,0],c='.5')\n",
    "plt.plot([1,1],c='.5')\n",
    "plt.ylabel('True positive rate')\n",
    "plt.xlabel('False positive rate')\n",
    "plt.legend()\n",
    "plt.show()"
   ]
  },
  {
   "cell_type": "code",
   "execution_count": null,
   "id": "f4e8ba30",
   "metadata": {},
   "outputs": [],
   "source": []
  },
  {
   "cell_type": "code",
   "execution_count": null,
   "id": "a074a298",
   "metadata": {},
   "outputs": [],
   "source": []
  }
 ],
 "metadata": {
  "colab": {
   "name": "logisticRegressionNb (1).ipynb",
   "provenance": []
  },
  "kernelspec": {
   "display_name": "Python 3 (ipykernel)",
   "language": "python",
   "name": "python3"
  },
  "language_info": {
   "codemirror_mode": {
    "name": "ipython",
    "version": 3
   },
   "file_extension": ".py",
   "mimetype": "text/x-python",
   "name": "python",
   "nbconvert_exporter": "python",
   "pygments_lexer": "ipython3",
   "version": "3.9.5"
  }
 },
 "nbformat": 4,
 "nbformat_minor": 5
}
